{
 "cells": [
  {
   "cell_type": "markdown",
   "metadata": {},
   "source": [
    "## FX pricing data \n",
    "\n",
    "Query EDP to get end of SPOT FX pricing data for GBP/USD over a two year period and then perform standard time-series analysis & prediction.\n",
    "\n",
    "**\"Prediction is very difficult, especially if it's about the future.\"** *Nils Bohr*"
   ]
  },
  {
   "cell_type": "code",
   "execution_count": 5,
   "metadata": {},
   "outputs": [],
   "source": [
    "#Global imports\n",
    "\n",
    "import pandas as pd\n",
    "import matplotlib\n",
    "import matplotlib.pyplot as plt\n",
    "import requests\n",
    "import json\n",
    "import numpy as np\n",
    "from statsmodels.tsa.seasonal import seasonal_decompose\n",
    "from statsmodels.tsa.arima_model import ARIMA\n",
    "from statsmodels.tsa.holtwinters import ExponentialSmoothing\n",
    "from statsmodels.tsa.stattools import acf, pacf\n",
    "from statsmodels.tsa.stattools import adfuller\n",
    "\n",
    "%matplotlib inline\n",
    "plt.style.use('seaborn')"
   ]
  },
  {
   "cell_type": "code",
   "execution_count": 6,
   "metadata": {},
   "outputs": [],
   "source": [
    "def get_data_request(url, requestData):\n",
    "    '''make HTTP GET request'''\n",
    "    dResp = requests.get(url, headers = {'X-api-key': access_token}, params = requestData);       \n",
    "\n",
    "    \n",
    "    if dResp.status_code != 200:\n",
    "        print(\"Unable to get data. Code %s, Message: %s\" % (dResp.status_code, dResp.text));\n",
    "    else:\n",
    "        print(\"Data access successful\")\n",
    "        jResp = json.loads(dResp.text);\n",
    "        return jResp"
   ]
  },
  {
   "cell_type": "markdown",
   "metadata": {},
   "source": [
    "#### API call to retrieve the data"
   ]
  },
  {
   "cell_type": "code",
   "execution_count": 9,
   "metadata": {},
   "outputs": [
    {
     "name": "stdout",
     "output_type": "stream",
     "text": [
      "Data access successful\n"
     ]
    },
    {
     "data": {
      "text/html": [
       "<div>\n",
       "<style scoped>\n",
       "    .dataframe tbody tr th:only-of-type {\n",
       "        vertical-align: middle;\n",
       "    }\n",
       "\n",
       "    .dataframe tbody tr th {\n",
       "        vertical-align: top;\n",
       "    }\n",
       "\n",
       "    .dataframe thead th {\n",
       "        text-align: right;\n",
       "    }\n",
       "</style>\n",
       "<table border=\"1\" class=\"dataframe\">\n",
       "  <thead>\n",
       "    <tr style=\"text-align: right;\">\n",
       "      <th></th>\n",
       "      <th>DATE</th>\n",
       "      <th>TRDPRC_1</th>\n",
       "      <th>OPEN_PRC</th>\n",
       "      <th>HIGH_1</th>\n",
       "      <th>LOW_1</th>\n",
       "      <th>ASK</th>\n",
       "      <th>BID</th>\n",
       "    </tr>\n",
       "  </thead>\n",
       "  <tbody>\n",
       "    <tr>\n",
       "      <th>0</th>\n",
       "      <td>2018-01-01</td>\n",
       "      <td>78.2</td>\n",
       "      <td>78.1</td>\n",
       "      <td>78.2</td>\n",
       "      <td>78.1</td>\n",
       "      <td>None</td>\n",
       "      <td>None</td>\n",
       "    </tr>\n",
       "    <tr>\n",
       "      <th>1</th>\n",
       "      <td>2017-12-29</td>\n",
       "      <td>78.2</td>\n",
       "      <td>78.1</td>\n",
       "      <td>78.2</td>\n",
       "      <td>78.1</td>\n",
       "      <td>None</td>\n",
       "      <td>None</td>\n",
       "    </tr>\n",
       "    <tr>\n",
       "      <th>2</th>\n",
       "      <td>2017-12-28</td>\n",
       "      <td>78.0</td>\n",
       "      <td>78.1</td>\n",
       "      <td>78.1</td>\n",
       "      <td>77.9</td>\n",
       "      <td>None</td>\n",
       "      <td>None</td>\n",
       "    </tr>\n",
       "    <tr>\n",
       "      <th>3</th>\n",
       "      <td>2017-12-27</td>\n",
       "      <td>78.0</td>\n",
       "      <td>78.1</td>\n",
       "      <td>78.1</td>\n",
       "      <td>78.0</td>\n",
       "      <td>None</td>\n",
       "      <td>None</td>\n",
       "    </tr>\n",
       "    <tr>\n",
       "      <th>4</th>\n",
       "      <td>2017-12-26</td>\n",
       "      <td>78.1</td>\n",
       "      <td>78.1</td>\n",
       "      <td>78.2</td>\n",
       "      <td>78.1</td>\n",
       "      <td>None</td>\n",
       "      <td>None</td>\n",
       "    </tr>\n",
       "  </tbody>\n",
       "</table>\n",
       "</div>"
      ],
      "text/plain": [
       "         DATE  TRDPRC_1  OPEN_PRC  HIGH_1  LOW_1   ASK   BID\n",
       "0  2018-01-01      78.2      78.1    78.2   78.1  None  None\n",
       "1  2017-12-29      78.2      78.1    78.2   78.1  None  None\n",
       "2  2017-12-28      78.0      78.1    78.1   77.9  None  None\n",
       "3  2017-12-27      78.0      78.1    78.1   78.0  None  None\n",
       "4  2017-12-26      78.1      78.1    78.2   78.1  None  None"
      ]
     },
     "execution_count": 9,
     "metadata": {},
     "output_type": "execute_result"
    }
   ],
   "source": [
    "ric = '=GBP' # GBP/USD\n",
    "start_date = '2016-11-01'\n",
    "end_date = '2018-10-31'\n",
    "\n",
    "RESOURCE_ENDPOINT = \"https://dsa-stg-edp-api.fr-nonprod.aws.thomsonreuters.com/data/historical-pricing/beta1/views/summaries/\" + ric\n",
    "access_token = '26GtCASt7F4X37PrBL1Ml8fcxFwZoCc84afAZThY'  # your personal key for Data Science Accelerator access to Pricing Data\n",
    "requestData = {\n",
    "    \"interval\": \"P1D\",\n",
    "    \"start\": start_date,\n",
    "    \"end\": end_date,\n",
    "};\n",
    "\n",
    "jResp = get_data_request(RESOURCE_ENDPOINT, requestData)\n",
    "\n",
    "\n",
    "if jResp is not None:\n",
    "    data = jResp[0]['data']\n",
    "    headers = jResp[0]['headers']  \n",
    "    names = [headers[x]['name'] for x in range(len(headers))]\n",
    "    spot_df = pd.DataFrame(data, columns=names )\n",
    "    \n",
    "spot_df.head()"
   ]
  },
  {
   "cell_type": "code",
   "execution_count": null,
   "metadata": {},
   "outputs": [],
   "source": [
    "# set the date as the index of the dataframe\n",
    "\n",
    "spot_df.DATE = pd.to_datetime(spot_df.DATE)\n",
    "spot_df = spot_df.set_index('DATE')"
   ]
  },
  {
   "cell_type": "markdown",
   "metadata": {},
   "source": [
    "#### Plot the Spot price Time-Series"
   ]
  },
  {
   "cell_type": "code",
   "execution_count": null,
   "metadata": {},
   "outputs": [],
   "source": [
    "spot_df.plot(title= 'GBP Spot Price',figsize=(16, 7))\n",
    "plt.xlabel('Date', fontsize=15)\n",
    "plt.ylabel('Price', fontsize=15)"
   ]
  },
  {
   "cell_type": "markdown",
   "metadata": {},
   "source": [
    "#### Calculate 12 days rolling average"
   ]
  },
  {
   "cell_type": "code",
   "execution_count": null,
   "metadata": {},
   "outputs": [],
   "source": [
    "spot_df['SPOT'].rolling(12).mean().plot(figsize=(16,7), color='red', label='Rolling 12')\n",
    "plt.plot(spot_df.SPOT, label='Original')\n",
    "plt.legend(loc='best')\n",
    "plt.xlabel('Date', fontsize=15)\n",
    "plt.ylabel('Price', fontsize=15)"
   ]
  },
  {
   "cell_type": "markdown",
   "metadata": {},
   "source": [
    "#### Time-series decomposition\n",
    "\n",
    "Decompose the Time-Series into Trend, Seasonality & Residuals Time-Series."
   ]
  },
  {
   "cell_type": "code",
   "execution_count": null,
   "metadata": {},
   "outputs": [],
   "source": [
    "decomposition = seasonal_decompose(spot_df.SPOT, freq=24)\n",
    "trend = decomposition.trend\n",
    "seasonal = decomposition.seasonal\n",
    "residual = decomposition.resid\n",
    "\n",
    "plt.figure(figsize=(16,7))\n",
    "plt.subplot(411)\n",
    "plt.plot(spot_df.SPOT, label='Original')\n",
    "plt.legend(loc='best')\n",
    "plt.subplot(412)\n",
    "plt.plot(trend, label='Trend')\n",
    "plt.legend(loc='best')\n",
    "plt.subplot(413)\n",
    "plt.plot(seasonal, label='Seasonality')\n",
    "plt.legend(loc='best')\n",
    "plt.subplot(414)\n",
    "plt.plot(residual, label='Residuals')\n",
    "plt.legend(loc='best')\n",
    "plt.tight_layout()"
   ]
  },
  {
   "cell_type": "markdown",
   "metadata": {},
   "source": [
    "#### First order differencing\n",
    "\n",
    "Perform a first order differencing to test for stationarity"
   ]
  },
  {
   "cell_type": "code",
   "execution_count": null,
   "metadata": {},
   "outputs": [],
   "source": [
    "spot_df['spot_1diff'] = spot_df['SPOT'].diff()\n",
    "spot_df = spot_df[spot_df['spot_1diff'].notnull()] # drop null rows\n",
    "test_stationarity(spot_df['spot_1diff'])"
   ]
  },
  {
   "cell_type": "markdown",
   "metadata": {},
   "source": [
    "The first order difference time-series seems to be stationary"
   ]
  },
  {
   "cell_type": "markdown",
   "metadata": {},
   "source": [
    "#### Plot autocorrelation & partial autocorrelation\n",
    "\n",
    "To identify the parameters for our ARIMA model"
   ]
  },
  {
   "cell_type": "code",
   "execution_count": null,
   "metadata": {},
   "outputs": [],
   "source": [
    "lag_acf = acf(spot_df['spot_1diff'], nlags=50)\n",
    "lag_pacf = pacf(spot_df['spot_1diff'], nlags=50, method='ols')"
   ]
  },
  {
   "cell_type": "code",
   "execution_count": null,
   "metadata": {},
   "outputs": [],
   "source": [
    "# q\n",
    "plt.figure(figsize=(16,7))\n",
    "plt.subplot(211)\n",
    "plt.axhline(y=0, linestyle='--', color='gray')\n",
    "plt.axhline(y=-1.96/np.sqrt(len(spot_df.spot_1diff)), linestyle='--', color='gray')\n",
    "plt.axhline(y=1.96/np.sqrt(len(spot_df.spot_1diff)), linestyle='--', color='gray')\n",
    "plt.axvline(x=1, color='red')\n",
    "plt.title('Autocorrelation')\n",
    "plt.plot(lag_acf)"
   ]
  },
  {
   "cell_type": "code",
   "execution_count": null,
   "metadata": {},
   "outputs": [],
   "source": [
    "# p\n",
    "plt.figure(figsize=(16,7))\n",
    "plt.subplot(211)\n",
    "plt.axhline(y=0, linestyle='--', color='gray')\n",
    "plt.axhline(y=-1.96/np.sqrt(len(spot_df.spot_1diff)), linestyle='--', color='gray')\n",
    "plt.axhline(y=1.96/np.sqrt(len(spot_df.spot_1diff)), linestyle='--', color='gray')\n",
    "plt.axvline(x=1, color='red')\n",
    "plt.title('Partial Autocorrelation')\n",
    "plt.plot(lag_pacf)"
   ]
  },
  {
   "cell_type": "markdown",
   "metadata": {},
   "source": [
    "#### Create an ARMA model"
   ]
  },
  {
   "cell_type": "code",
   "execution_count": null,
   "metadata": {},
   "outputs": [],
   "source": [
    "new_spot = spot_df['spot_1diff'].resample('D').ffill() # resample per day and fill the gaps\n",
    "# new_spot = spot_df['SPOT'].resample('D').ffill()\n",
    "# new_spot = residual.resample('D').ffill().dropna()"
   ]
  },
  {
   "cell_type": "code",
   "execution_count": null,
   "metadata": {},
   "outputs": [],
   "source": [
    "test_stationarity(new_spot)"
   ]
  },
  {
   "cell_type": "code",
   "execution_count": null,
   "metadata": {
    "scrolled": false
   },
   "outputs": [],
   "source": [
    "#ARIMA(p,d,q) d = 0 as we use the 1st order differenciated time-series\n",
    "\n",
    "arma_model = ARIMA(new_spot, order=(1,0,1)) \n",
    "results = arma_model.fit(disp=0)\n",
    "plt.figure(figsize=(16,7))\n",
    "plt.plot(new_spot) # comparing against the 1st order difference time-series\n",
    "plt.plot(results.fittedvalues, color='red')\n",
    "plt.title('RSS: %.4f' % sum((results.fittedvalues-new_spot)**2))"
   ]
  },
  {
   "cell_type": "code",
   "execution_count": null,
   "metadata": {},
   "outputs": [],
   "source": [
    "print(results.summary())"
   ]
  },
  {
   "cell_type": "markdown",
   "metadata": {},
   "source": [
    "Plot the residuals to see if there is any trend in the data"
   ]
  },
  {
   "cell_type": "code",
   "execution_count": null,
   "metadata": {},
   "outputs": [],
   "source": [
    "residuals = pd.DataFrame(results.resid)\n",
    "residuals.plot(figsize=(16,7), title='Residuals')"
   ]
  },
  {
   "cell_type": "markdown",
   "metadata": {},
   "source": [
    "Check that distribution of residual values is Gaussian"
   ]
  },
  {
   "cell_type": "code",
   "execution_count": null,
   "metadata": {},
   "outputs": [],
   "source": [
    "residuals.plot(figsize=(8,5), kind='kde', title='Distribution of residual error values')"
   ]
  },
  {
   "cell_type": "markdown",
   "metadata": {},
   "source": [
    "#### Bring data back to original scale"
   ]
  },
  {
   "cell_type": "markdown",
   "metadata": {},
   "source": [
    "Calculate the cumulative sum and add it to a log series with a base value (first SPOT value) since we used the first order difference time-series"
   ]
  },
  {
   "cell_type": "code",
   "execution_count": null,
   "metadata": {},
   "outputs": [],
   "source": [
    "predictions_ARIMA = pd.Series(results.fittedvalues, copy=True)\n",
    "predictions_ARIMA_cumsum = predictions_ARIMA.cumsum()\n",
    "predictions_ARIMA_final = pd.Series(spot_df['SPOT'].iloc[0], index=new_spot.index)\n",
    "predictions_ARIMA_final = predictions_ARIMA_final.add(predictions_ARIMA_cumsum, fill_value=0)\n",
    "predictions_ARIMA_final.head()"
   ]
  },
  {
   "cell_type": "code",
   "execution_count": null,
   "metadata": {},
   "outputs": [],
   "source": [
    "plt.figure(figsize=(16,7))\n",
    "plt.plot(spot_df.SPOT.resample('D').ffill(), label='Original SPOT')\n",
    "plt.plot(predictions_ARIMA_final, color='red', label='Fitted')\n",
    "plt.legend(loc='best')\n",
    "plt.title('RSS: %.4f' % sum((results.fittedvalues-new_spot)**2))"
   ]
  },
  {
   "cell_type": "markdown",
   "metadata": {},
   "source": [
    "#### Exponential Smoothing\n",
    "\n",
    "We will use triple exponential smoothing (Holt-Winters) for forecasting"
   ]
  },
  {
   "cell_type": "code",
   "execution_count": null,
   "metadata": {},
   "outputs": [],
   "source": [
    "new_spot = spot_df.SPOT.resample('D',label='right').ffill()"
   ]
  },
  {
   "cell_type": "code",
   "execution_count": null,
   "metadata": {},
   "outputs": [],
   "source": [
    "es_model = ExponentialSmoothing(new_spot, \n",
    "                             trend='add', damped=False, seasonal='mul', seasonal_periods=12)\n",
    "\n",
    "es_results = es_model.fit()"
   ]
  },
  {
   "cell_type": "code",
   "execution_count": null,
   "metadata": {},
   "outputs": [],
   "source": [
    "plt.figure(figsize=(16,7))\n",
    "plt.plot(new_spot, label='Original SPOT')\n",
    "plt.plot(es_results.fittedvalues, color='red', label='Fitted')\n",
    "plt.legend(loc='best')\n",
    "plt.title('RSS: %.4f' % sum((es_results.fittedvalues-new_spot)**2))"
   ]
  },
  {
   "cell_type": "code",
   "execution_count": null,
   "metadata": {},
   "outputs": [],
   "source": [
    "predicted_values = es_model.predict(params=es_results.params, start='2017-12-30', end='2018-01-20')\n",
    "preds = pd.DataFrame(index= pd.date_range(start='2017-12-30', end='2018-01-20'), data=predicted_values, columns=['SPOT'])"
   ]
  },
  {
   "cell_type": "code",
   "execution_count": null,
   "metadata": {},
   "outputs": [],
   "source": [
    "plt.figure(figsize=(16,7))\n",
    "plt.plot(new_spot[new_spot.index>'2016-09-01'], label='Original')\n",
    "plt.plot(preds, label='Predicted', color='red')\n",
    "plt.legend(loc='best')\n",
    "plt.show()"
   ]
  }
 ],
 "metadata": {
  "kernelspec": {
   "display_name": "Python 3",
   "language": "python",
   "name": "python3"
  },
  "language_info": {
   "codemirror_mode": {
    "name": "ipython",
    "version": 3
   },
   "file_extension": ".py",
   "mimetype": "text/x-python",
   "name": "python",
   "nbconvert_exporter": "python",
   "pygments_lexer": "ipython3",
   "version": "3.7.3"
  }
 },
 "nbformat": 4,
 "nbformat_minor": 2
}
